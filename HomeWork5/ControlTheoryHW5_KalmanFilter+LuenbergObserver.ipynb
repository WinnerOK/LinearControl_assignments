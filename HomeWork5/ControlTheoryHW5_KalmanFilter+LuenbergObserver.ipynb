{
  "nbformat": 4,
  "nbformat_minor": 0,
  "metadata": {
    "colab": {
      "name": "ControlTheoryHW5_KalmanFilter+LuenbergObserver.ipynb",
      "provenance": [],
      "collapsed_sections": []
    },
    "kernelspec": {
      "name": "python3",
      "display_name": "Python 3"
    }
  },
  "cells": [
    {
      "cell_type": "code",
      "metadata": {
        "id": "Q6Dzi-Ktos61",
        "colab_type": "code",
        "colab": {}
      },
      "source": [
        "import numpy as np\n",
        "from numpy.linalg import matrix_power, matrix_rank\n",
        "# \n",
        "import matplotlib.pyplot as plt\n",
        "from matplotlib.font_manager import FontProperties\n",
        "from scipy.integrate import odeint\n",
        "from scipy.linalg import inv, solve_continuous_are\n",
        "from math import pi\n",
        "# \n",
        "from scipy.signal import place_poles\n",
        "\n",
        "A = np.array([\n",
        "               [0,0,      1,0],\n",
        "               [0,0,      0,1],\n",
        "               [0,5.7552, 0,0],\n",
        "               [0,12.971, 0,0],\n",
        "])\n",
        "\n",
        "B = np.array([\n",
        "               [0],\n",
        "               [0],\n",
        "               [0.133],\n",
        "               [0.111],\n",
        "])\n",
        "\n",
        "C = np.array([\n",
        "              [1, 0, 0, 0],\n",
        "              [0, 1, 0, 0],\n",
        "])"
      ],
      "execution_count": 0,
      "outputs": []
    },
    {
      "cell_type": "markdown",
      "metadata": {
        "id": "pANFukog_aph",
        "colab_type": "text"
      },
      "source": [
        "# DE solver"
      ]
    },
    {
      "cell_type": "code",
      "metadata": {
        "id": "nk7mHAwB_cgO",
        "colab_type": "code",
        "colab": {}
      },
      "source": [
        "def RungeKutta(fnc, x, time):\n",
        "    Count = time.shape[0]\n",
        "\n",
        "    n_runge = x.shape[0];\n",
        "\n",
        "    y = np.zeros((Count, n_runge))\n",
        "    y[0, :] = x\n",
        "\n",
        "\n",
        "    for i in range(1, Count-1):\n",
        "        \n",
        "        dt = time[i] - time[i-1]\n",
        "        \n",
        "        dx1 = fnc(x, time[i])\n",
        "        dx2 = fnc(x+0.5*dx1*dt, time[i]+dt/2)\n",
        "        dx3 = fnc(x+0.5*dx2*dt, time[i]+dt/2)\n",
        "        dx4 = fnc(x+    dx3*dt, time[i]+dt)\n",
        "        \n",
        "        dx = (dx1 + 2*dx2 + 2*dx3 + dx4) / 6\n",
        "        x = x + dx*dt\n",
        "\n",
        "        \n",
        "        y[i, :] = x\n",
        "    return y"
      ],
      "execution_count": 0,
      "outputs": []
    },
    {
      "cell_type": "markdown",
      "metadata": {
        "id": "O8X202zApvTD",
        "colab_type": "text"
      },
      "source": [
        "# Find observability matrix\n",
        "$ \\mathcal{O} =\n",
        "  \\begin{bmatrix}\n",
        "  C       \\\\\n",
        "  CA      \\\\\n",
        "  CA^2    \\\\\n",
        "  CA^3\n",
        "\\end{bmatrix}$\n"
      ]
    },
    {
      "cell_type": "code",
      "metadata": {
        "id": "C2aMSYkRpuM5",
        "colab_type": "code",
        "outputId": "c6ec247c-b130-46c6-ff03-aecd2a4dbde3",
        "colab": {
          "base_uri": "https://localhost:8080/",
          "height": 221
        }
      },
      "source": [
        "O = np.concatenate(\n",
        "    (\n",
        "        C, \n",
        "        C.dot(A),\n",
        "        C.dot(matrix_power(A, 2)),\n",
        "        C.dot(matrix_power(A, 3)),\n",
        "     )\n",
        ")\n",
        "\n",
        "print(f\"Observability matrix:\\n{O}\\n\\nShape:{O.shape}\\nrank: {matrix_rank(O)}\")"
      ],
      "execution_count": 108,
      "outputs": [
        {
          "output_type": "stream",
          "text": [
            "Observability matrix:\n",
            "[[ 1.      0.      0.      0.    ]\n",
            " [ 0.      1.      0.      0.    ]\n",
            " [ 0.      0.      1.      0.    ]\n",
            " [ 0.      0.      0.      1.    ]\n",
            " [ 0.      5.7552  0.      0.    ]\n",
            " [ 0.     12.971   0.      0.    ]\n",
            " [ 0.      0.      0.      5.7552]\n",
            " [ 0.      0.      0.     12.971 ]]\n",
            "\n",
            "Shape:(8, 4)\n",
            "rank: 4\n"
          ],
          "name": "stdout"
        }
      ]
    },
    {
      "cell_type": "markdown",
      "metadata": {
        "id": "1KCUqc9Z41Ex",
        "colab_type": "text"
      },
      "source": [
        "# Open-loop observer\n"
      ]
    },
    {
      "cell_type": "code",
      "metadata": {
        "id": "Cl0UzCRq43iM",
        "colab_type": "code",
        "outputId": "9e1d10ea-dd87-4717-a96b-2d25ca7a612d",
        "colab": {
          "base_uri": "https://localhost:8080/",
          "height": 290
        }
      },
      "source": [
        "def lqr(A, B, Q, R):\n",
        "  \"\"\"\n",
        "  dx/dt = Ax+ Bu\n",
        "\n",
        "  J = integral of x.T * Q * x + u.T *R * u\n",
        "  \"\"\"\n",
        "  # solve Algebraic Riccati equation\n",
        "  S = solve_continuous_are(A, B, Q, R)\n",
        "  \n",
        "  # Compute gain \n",
        "  K = inv(R).dot( B.T.dot(S) )\n",
        "\n",
        "  return np.asarray(K)\n",
        "\n",
        "time_start = 0\n",
        "time_finish = 7\n",
        "time_step = 0.01\n",
        "\n",
        "x_0 = 5\n",
        "ang_0 = 0\n",
        "diff_x_0 = 0\n",
        "diff_ang_0 = pi/8\n",
        "\n",
        "labels = [\"x(t)\", \"theta(t)\", \"x'(t)\", \"theta'(t)\"]\n",
        "\n",
        "time = np.arange(time_start, time_finish, time_step)\n",
        "init = [x_0, ang_0, diff_x_0, diff_ang_0]\n",
        "\n",
        "init_obs = [x_0 + 5, ang_0 + pi/6, diff_x_0, diff_ang_0]\n",
        "\n",
        "Q = np.eye(4) * 100\n",
        "\n",
        "R = np.eye(1)\n",
        "\n",
        "k = lqr(A, B, Q, R)\n",
        "\n",
        "def u(x):\n",
        "  ret = -k.dot(x)\n",
        "  return np.array([0])\n",
        "\n",
        "def differential(x, t):\n",
        "  Ax = A.dot(x)\n",
        "  Bu = B.dot(u(x))\n",
        "  ret = Ax + Bu\n",
        "  return ret\n",
        "\n",
        "\n",
        "real = odeint(differential, init, time)\n",
        "observed = odeint(differential, init_obs, time)\n",
        "error =  np.absolute(real - observed)\n",
        "\n",
        "# Print error\n",
        "# for i in range(real.shape[1]):\n",
        "#   print(labels[i])\n",
        "#   for j in range(real.shape[0]):\n",
        "#     print(f\"\\tabs({real[j, i]} - {observed[j, i]}) = {error[j, i]}\")\n",
        "\n",
        "\n",
        "plt.plot(time, error)\n",
        "plt.xlabel('time')\n",
        "\n",
        "plt.legend(list(map(lambda x: x + \" err\", labels)))\n",
        "plt.show()\n"
      ],
      "execution_count": 109,
      "outputs": [
        {
          "output_type": "display_data",
          "data": {
            "image/png": "[encoded data removed]",
            "text/plain": [
              "<Figure size 432x288 with 1 Axes>"
            ]
          },
          "metadata": {
            "tags": [],
            "needs_background": "light"
          }
        }
      ]
    },
    {
      "cell_type": "code",
      "metadata": {
        "id": "5IyYNEUu2hcy",
        "colab_type": "code",
        "colab": {}
      },
      "source": [
        "NOISE_SCALE_OUTPUT = 0.05\n",
        "NOISE_SCALE_DYNAMICS = 0.05\n",
        "\n",
        "# NOISE_OUTPUT = False\n",
        "# NOISE_DYNAMICS = False\n",
        "\n",
        "# NOISE_OUTPUT = True\n",
        "# NOISE_DYNAMICS = False\n",
        "\n",
        "# NOISE_OUTPUT = False\n",
        "# NOISE_DYNAMICS = True\n",
        "\n",
        "NOISE_OUTPUT = True\n",
        "NOISE_DYNAMICS = True"
      ],
      "execution_count": 0,
      "outputs": []
    },
    {
      "cell_type": "markdown",
      "metadata": {
        "id": "v90kocb4X84-",
        "colab_type": "text"
      },
      "source": [
        "# Luenberg observer"
      ]
    },
    {
      "cell_type": "code",
      "metadata": {
        "id": "U1aQd9TSHher",
        "colab_type": "code",
        "outputId": "e7542a33-33d9-4fbb-b968-f26092fd937c",
        "colab": {
          "base_uri": "https://localhost:8080/",
          "height": 573
        }
      },
      "source": [
        "# LQR\n",
        "Q =  np.array([\n",
        "                   [1,0,0,0],\n",
        "                   [0,1,0,0],\n",
        "                   [0,0,1,0],\n",
        "                   [0,0,0,1]\n",
        "])\n",
        "\n",
        "R = np.array([\n",
        "              [1, 0],\n",
        "              [0, 1],\n",
        "])\n",
        "\n",
        "L_lqr = lqr(A.T, C.T, Q, R).T\n",
        "\n",
        "# Pole placement\n",
        "desired_poles = [-1, -2, -3, -4]\n",
        "pole = place_poles(A.T, C.T, desired_poles)\n",
        "L_pole = pole.gain_matrix.T\n",
        "\n",
        "\n",
        "L = L_lqr  # Change this var to work with calculations of L matrix\n",
        "k = place_poles(A, B, desired_poles).gain_matrix\n",
        "def system (x, t):\n",
        "  ret = (A - B.dot(k)).dot(x)\n",
        "  # print(ret.shape)\n",
        "  if NOISE_DYNAMICS:\n",
        "    ret += NOISE_SCALE_DYNAMICS * np.random.randn(*(ret.shape)) \n",
        "    # ret += 0 * np.random.randn(*(ret.shape))\n",
        "  \n",
        "  return ret\n",
        "\n",
        "def luenberg(x_est, t, u, y):\n",
        "  # x_diff = (x - x_est).reshape((4, 1))\n",
        "  y_diff = y - C.dot(x_est).reshape((2, ))\n",
        "  # print(f\"C: {C.shape}, x_diff: {x_diff.shape}, y_diff: {y_diff.shape}\")\n",
        "\n",
        "  Ax = A.dot(x_est)\n",
        "  Bu = B.dot(u).reshape((4, ))\n",
        "  Ly_diff = L.dot(y_diff)\n",
        "  # print(f\"Ax: {Ax.shape}, Bu: {Bu.shape}, Ly_diff: {Ly_diff.shape}\")\n",
        "\n",
        "  ret = Ax + Bu + Ly_diff\n",
        "  return ret\n",
        "\n",
        "time_start = 0\n",
        "time_finish = 10\n",
        "time_step = 0.01\n",
        "\n",
        "x_0 = 0.5\n",
        "ang_0 = pi/3\n",
        "diff_x_0 = 0.01\n",
        "diff_ang_0 = pi/12\n",
        "\n",
        "x_0_est = 0.5\n",
        "ang_0_est = pi/6\n",
        "diff_x_0_est = 0.07\n",
        "diff_ang_0_est = pi/8\n",
        "\n",
        "labels = [\"x(t)\", \"theta(t)\", \"x'(t)\", \"theta'(t)\"]\n",
        "\n",
        "time = np.arange(time_start, time_finish, time_step)\n",
        "x = [np.array([x_0, ang_0, diff_x_0, diff_ang_0])]\n",
        "x_obs = [np.array([x_0_est, ang_0_est, diff_x_0_est, diff_ang_0_est])]\n",
        "sensor_data = []\n",
        "\n",
        "\n",
        "for real_x in np.array(list(RungeKutta(system, x[0], time))):\n",
        "  # This trick with odeint was suggested by students of 4th group in order not to\n",
        "  # implement custom numeric solver but at the same time pass to the observer\n",
        "  # values from \"sensors\"\n",
        "  local_time = np.array([time[i-1], time[i]])\n",
        "\n",
        "  x.append(real_x)\n",
        "\n",
        "  y = C.dot(x[-1])\n",
        "  if NOISE_OUTPUT:\n",
        "    y += NOISE_SCALE_OUTPUT * np.random.randn(*(y.shape))\n",
        "  \n",
        "  sensor_data.append(y)\n",
        "  \n",
        "  u = -k.dot(x_obs[-1])\n",
        "  # u = np.array([0])  # uncomment to work with uncontrolled\n",
        "  x_obs_dot = odeint(luenberg, x_obs[-1], local_time, args=(u, y))\n",
        "  x_obs.append(x_obs_dot[-1])\n",
        "\n",
        "x = np.array(x)\n",
        "x_obs = np.array(x_obs)\n",
        "error = np.absolute(x - x_obs)\n",
        "\n",
        "plt.plot(time, x_obs[:-1])\n",
        "plt.title(\"observation\")\n",
        "plt.xlabel('time')\n",
        "plt.legend(labels)\n",
        "\n",
        "plt.show()\n",
        "\n",
        "plt.plot(time, error[:-1])\n",
        "plt.xlabel('time')\n",
        "plt.title(\"observation error\")\n",
        "plt.legend(list(map(lambda x: x + \" err\", labels)))\n",
        "plt.show()\n",
        "\n"
      ],
      "execution_count": 117,
      "outputs": [
        {
          "output_type": "display_data",
          "data": {
            "image/png": "[encoded data removed]",
            "text/plain": [
              "<Figure size 432x288 with 1 Axes>"
            ]
          },
          "metadata": {
            "tags": [],
            "needs_background": "light"
          }
        },
        {
          "output_type": "display_data",
          "data": {
            "image/png": "[encoded data removed]",
            "text/plain": [
              "<Figure size 432x288 with 1 Axes>"
            ]
          },
          "metadata": {
            "tags": [],
            "needs_background": "light"
          }
        }
      ]
    },
    {
      "cell_type": "markdown",
      "metadata": {
        "id": "-ZT7ey2l3VmT",
        "colab_type": "text"
      },
      "source": [
        "# Kalman Filter"
      ]
    },
    {
      "cell_type": "code",
      "metadata": {
        "id": "S6s_g9OAvNjs",
        "colab_type": "code",
        "colab": {}
      },
      "source": [
        "class KalmanFilter():\n",
        "  def __init__(self, A, C, Q, R, B = None, P = None, x_init = None):\n",
        "\n",
        "    self.n = A.shape[1]\n",
        "\n",
        "    self.A = A\n",
        "    self.B = 0 if B is None else B\n",
        "    self.C = C\n",
        "    self.Q = Q\n",
        "    self.R = R\n",
        "    self.P = 100 * np.eye(self.n) if P is None else P \n",
        "    self.x = np.zeros((self.n, )) if x_init is None else x_init\n",
        "\n",
        "  def predict(self, u = np.array([0, ])):\n",
        "    self.x = np.dot(self.A, self.x) + np.dot(self.B, u)\n",
        "    self.P = np.dot(np.dot(self.A, self.P), self.A.T) + self.Q\n",
        "    # return self.x\n",
        "\n",
        "  def update(self, y_sensor):\n",
        "    y_diff = y_sensor - np.dot(self.C, self.x)\n",
        "    K_denum = self.R + np.dot(self.C, np.dot(self.P, self.C.T))\n",
        "    K = np.dot(np.dot(self.P, self.C.T), inv(K_denum))\n",
        "    self.x = self.x + np.dot(K, y_diff)\n",
        "    I = np.eye(self.n)\n",
        "    # print(f\"I: {I.shape}, KC: {np.dot(K, C).shape}, P: {self.P.shape}\")\n",
        "    # self.P = np.dot(I - np.dot(K, C), self.P)\n",
        "    self.P = np.dot(\n",
        "        np.dot(I - np.dot(K, C), self.P),\n",
        "        (I - np.dot(K, self.C)).T\n",
        "    ) + np.dot(np.dot(K, self.R), K.T)\n",
        "    return self.x"
      ],
      "execution_count": 0,
      "outputs": []
    },
    {
      "cell_type": "code",
      "metadata": {
        "id": "DFVTuALGzJBQ",
        "colab_type": "code",
        "colab": {}
      },
      "source": [
        "NOISE_SCALE_OUTPUT = 0.05\n",
        "NOISE_SCALE_DYNAMICS = 0.05\n",
        "\n",
        "# NOISE_OUTPUT = False\n",
        "# NOISE_DYNAMICS = False\n",
        "\n",
        "# NOISE_OUTPUT = True\n",
        "# NOISE_DYNAMICS = False\n",
        "\n",
        "# NOISE_OUTPUT = False\n",
        "# NOISE_DYNAMICS = True\n",
        "\n",
        "NOISE_OUTPUT = True\n",
        "NOISE_DYNAMICS = True"
      ],
      "execution_count": 0,
      "outputs": []
    },
    {
      "cell_type": "code",
      "metadata": {
        "id": "_RPsrmP_jdzN",
        "colab_type": "code",
        "outputId": "422a903c-1d59-4469-ba58-bd6753bb0757",
        "colab": {
          "base_uri": "https://localhost:8080/",
          "height": 573
        }
      },
      "source": [
        "desired_poles = [-1, -2, -3, -4]\n",
        "k = place_poles(A, B, desired_poles).gain_matrix\n",
        "def system (x, t):\n",
        "  ret = (A - B.dot(k)).dot(x)\n",
        "  # print(ret.shape)\n",
        "  if NOISE_DYNAMICS:\n",
        "    ret += 7 * np.random.randn(*(ret.shape)) \n",
        "    # ret += 0 * np.random.randn(*(ret.shape))\n",
        "  \n",
        "  return ret\n",
        "\n",
        "time_start = 0\n",
        "time_finish = 5\n",
        "time_step = 0.0001\n",
        "second_stamps = int(1/time_step)\n",
        "\n",
        "x_0 = 0.5\n",
        "ang_0 = pi/3\n",
        "diff_x_0 = 0.01\n",
        "diff_ang_0 = pi/12\n",
        "\n",
        "x_0_est = 0.5\n",
        "ang_0_est = pi/3 + pi/12\n",
        "diff_x_0_est = 0.02\n",
        "diff_ang_0_est = pi/13\n",
        "\n",
        "labels = [\"x(t)\", \"theta(t)\", \"x'(t)\", \"theta'(t)\"]\n",
        "\n",
        "time = np.arange(time_start, time_finish, time_step)\n",
        "x = [np.array([x_0, ang_0, diff_x_0, diff_ang_0])]\n",
        "x_obs = [np.array([x_0_est, ang_0_est, diff_x_0_est, diff_ang_0_est])]\n",
        "sensor_data = [C.dot(x[0])]\n",
        "\n",
        "Q = 10 *   np.array([\n",
        "                   [1,    0,    0,  0],\n",
        "                   [0,    1,    0,  0],\n",
        "                   [0,    0,    1,  0],\n",
        "                   [0,    0,    0,  1]\n",
        "])\n",
        "\n",
        "R = 10 *  np.array([\n",
        "              [1, 0],\n",
        "              [0, 1],\n",
        "])\n",
        "\n",
        "filter_predictions = [ np.array([x_0_est, ang_0_est, diff_x_0_est, diff_ang_0_est]) ]\n",
        "kalm_filter = KalmanFilter(A=A, B=B, C=C, Q=Q, R=R, P=None, x_init=filter_predictions[0])\n",
        "\n",
        "real_x_list=[]\n",
        "current_time = time_start\n",
        "time_array = [current_time]\n",
        "for real_x in np.array(list(RungeKutta(system, x[0], time))):\n",
        "  real_x_list.append(real_x)\n",
        "\n",
        "  y = C.dot(real_x)\n",
        "  if NOISE_OUTPUT:\n",
        "    y += NOISE_SCALE_OUTPUT * np.random.randn(*(y.shape))\n",
        "  \n",
        "  # sensor_data.append(y)\n",
        "  \n",
        "  u = -k.dot(filter_predictions[-1])\n",
        "  kalm_filter.predict()  # here should be also u, but system become instable\n",
        "  filter_predictions.append(kalm_filter.update(y))\n",
        "\n",
        "\n",
        "fontP = FontProperties()\n",
        "fontP.set_size('small')\n",
        "\n",
        "plt.title(\"Kalman filter\")\n",
        "x_data = plt.plot(time, real_x_list)\n",
        "predict_data = plt.plot(time, filter_predictions[:-1], '--')\n",
        "plt.xlabel('time')\n",
        "plt.legend([*x_data, *predict_data], [\"x\", \"theta\", \"x'\", \"theta'\",\"est_x\", \"est_theta\", \"est_x'\", \"est_theta'\"], prop=fontP)\n",
        "plt.show()\n",
        "\n",
        "plt.title(\"System simulation\")\n",
        "plt.plot(time, real_x_list)\n",
        "plt.xlabel('time')\n",
        "plt.legend(x_data, [\"x\", \"theta\", \"x'\", \"theta'\"], prop=fontP)\n",
        "plt.show()\n",
        "\n"
      ],
      "execution_count": 0,
      "outputs": [
        {
          "output_type": "display_data",
          "data": {
            "image/png": "[encoded data removed]",
            "text/plain": [
              "<Figure size 432x288 with 1 Axes>"
            ]
          },
          "metadata": {
            "tags": [],
            "needs_background": "light"
          }
        },
        {
          "output_type": "display_data",
          "data": {
            "image/png": "[encoded data removed]",
            "text/plain": [
              "<Figure size 432x288 with 1 Axes>"
            ]
          },
          "metadata": {
            "tags": [],
            "needs_background": "light"
          }
        }
      ]
    },
    {
      "cell_type": "markdown",
      "metadata": {
        "id": "cWhTgl334rUQ",
        "colab_type": "text"
      },
      "source": [
        "# LQG"
      ]
    },
    {
      "cell_type": "code",
      "metadata": {
        "id": "yK8XqAlD4s-s",
        "colab_type": "code",
        "outputId": "efb3d540-8007-4248-a862-00745300a884",
        "colab": {
          "base_uri": "https://localhost:8080/",
          "height": 344
        }
      },
      "source": [
        "desired_poles = [-1, -2, -3, -4]\n",
        "k = place_poles(A, B, desired_poles).gain_matrix\n",
        "def system (x, t):\n",
        "  ret = (A - B.dot(k)).dot(x)\n",
        "  # print(ret.shape)\n",
        "  if NOISE_DYNAMICS:\n",
        "    ret += NOISE_SCALE_DYNAMICS * np.random.randn(*(ret.shape)) \n",
        "    # ret += 0 * np.random.randn(*(ret.shape))\n",
        "\n",
        "time_start = 0\n",
        "time_finish = 3\n",
        "time_step = 0.0001\n",
        "second_stamps = int(1/time_step)\n",
        "\n",
        "x_0 = 0.5\n",
        "ang_0 = pi/3\n",
        "diff_x_0 = 0.01\n",
        "diff_ang_0 = pi/12\n",
        "\n",
        "x_0_est = 0.5\n",
        "ang_0_est = pi/6\n",
        "diff_x_0_est = 0.07\n",
        "diff_ang_0_est = pi/8\n",
        "\n",
        "labels = [\"x(t)\", \"theta(t)\", \"x'(t)\", \"theta'(t)\"]\n",
        "\n",
        "time = np.arange(time_start, time_finish, time_step)\n",
        "x = [np.array([x_0, ang_0, diff_x_0, diff_ang_0])]\n",
        "sensor_data = [C.dot(x[0])]\n",
        "\n",
        "Q =     np.array([\n",
        "                   [1,    0,    0,  0],\n",
        "                   [0,    1,    0,  0],\n",
        "                   [0,    0,    1,  0],\n",
        "                   [0,    0,    0,  1]\n",
        "])\n",
        "\n",
        "R = 0.01 *  np.array([\n",
        "              [1, 0],\n",
        "              [0, 1],\n",
        "])\n",
        "\n",
        "\n",
        "kalm_filter = KalmanFilter(A=A, B=B, C=C, Q=Q, R=R, P=None, x_init=None)\n",
        "filter_predictions = [ np.array([x_0_est, ang_0_est, diff_x_0_est, diff_ang_0_est]) ]\n",
        "\n",
        "for real_x in np.array(list(RungeKutta(system, x[0], time))):\n",
        "  # This trick was suggested by students of 4th group in order not to\n",
        "  # implement custom numeric solver but at the same time pass to the observer\n",
        "  # values from \"sensors\"\n",
        "  local_time = np.linspace(time[i-1], time[i])\n",
        "  u = -k.dot(filter_predictions[-1])\n",
        "  # u = np.array([0])  # uncomment to work with uncontrolled\n",
        "\n",
        "  x_dot = odeint(real, x[-1], local_time, args=(u, ))\n",
        "  x.append(x_dot[-1])\n",
        "\n",
        "  y = C.dot(x[-1])\n",
        "  if NOISE_OUTPUT:\n",
        "    y += NOISE_SCALE_OUTPUT * np.random.randn(*(y.shape))\n",
        "  \n",
        "  sensor_data.append(y)\n",
        "  \n",
        "  kalm_filter.predict(u)\n",
        "  filter_predictions.append(kalm_filter.update(y))\n",
        "\n",
        "x = np.array(x)\n",
        "prediction_error = plt.plot(time, np.asarray(filter_predictions) - x)\n",
        "\n",
        "plt.xlabel('time')\n",
        "\n",
        "plt.legend(iter(prediction_error), [\"x_err\", \"theta_err\",\"x'_err\", \"theta'_err\"])\n",
        "plt.show()\n",
        "# filter_predictions"
      ],
      "execution_count": 0,
      "outputs": [
        {
          "output_type": "stream",
          "text": [
            "/usr/local/lib/python3.6/dist-packages/scipy/integrate/odepack.py:248: ODEintWarning: Illegal input detected (internal error). Run with full_output = 1 to get quantitative information.\n",
            "  warnings.warn(warning_msg, ODEintWarning)\n"
          ],
          "name": "stderr"
        },
        {
          "output_type": "display_data",
          "data": {
            "image/png": "[encoded data removed]",
            "text/plain": [
              "<Figure size 432x288 with 1 Axes>"
            ]
          },
          "metadata": {
            "tags": [],
            "needs_background": "light"
          }
        }
      ]
    }
  ]
}